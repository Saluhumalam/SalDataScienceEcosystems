{
 "cells": [
  {
   "cell_type": "markdown",
   "id": "10910282-8f40-49dd-a061-e4de08e449ca",
   "metadata": {
    "tags": []
   },
   "source": [
    "<H1>Data Science tools and Ecosystem<H1>"
   ]
  },
  {
   "cell_type": "markdown",
   "id": "3c016bb1-0497-48a8-8292-69a269d877f8",
   "metadata": {},
   "source": [
    "In this notebook. Data Science tools and Ecosystems are summarized."
   ]
  },
  {
   "cell_type": "markdown",
   "id": "99b70c8c-7c3f-4e2e-8a7b-162d465a9726",
   "metadata": {},
   "source": [
    "## Objective:"
   ]
  },
  {
   "cell_type": "markdown",
   "id": "229f9308-aa93-430b-8ff3-4546cea50612",
   "metadata": {},
   "source": [
    "<ul> \n",
    "<li> SQL </li>\n",
    "<li> Python</li>\n",
    "<li> R </li>\n",
    "<li> Julia </li>\n",
    "<li> Scala </li>\n",
    "</ul>\n"
   ]
  },
  {
   "cell_type": "markdown",
   "id": "f3bea24a-f56b-420f-bba2-4b65cd855f5c",
   "metadata": {},
   "source": [
    "Some of the popular languages that Data Scientist use are: \n",
    "<ol>\n",
    "<li>python</li>\n",
    "<li>R</li>\n",
    "<li>SQL</li>\n",
    "</ol>\n",
    "\n",
    "    \n"
   ]
  },
  {
   "cell_type": "markdown",
   "id": "c95bed06-d22e-4165-bb43-c555a4973cef",
   "metadata": {},
   "source": [
    "Some of the commonly used libraries used by Data Scientist include: \n",
    "<ol> \n",
    "<li>Panda</li>\n",
    "<li>TensorFlow</li> \n",
    "<li>NumPy</li>\n",
    "</ol>"
   ]
  },
  {
   "cell_type": "markdown",
   "id": "fd4727a1-9364-4dc0-9405-c6be4d7644c6",
   "metadata": {},
   "source": [
    "# Data Science Tools \n"
   ]
  },
  {
   "cell_type": "markdown",
   "id": "f4d71bec-34b8-48a9-9a64-faab79337337",
   "metadata": {},
   "source": [
    "|Data Science Tools|\n",
    "|------------------|\n",
    "|Jupyter Notebook|\n",
    "|Rstudio|\n",
    "|Apache Zeppelin|"
   ]
  },
  {
   "cell_type": "markdown",
   "id": "ccad448a-b1aa-4003-9d8c-5e75681ca20a",
   "metadata": {},
   "source": [
    "### Below are a few examples of evaluating arithmetic expressions in python."
   ]
  },
  {
   "cell_type": "markdown",
   "id": "3826a24a-7147-4d81-9c9d-adc38330bf2d",
   "metadata": {
    "tags": []
   },
   "source": [
    "This a simple arithmetic expression to multiply then add intergers."
   ]
  },
  {
   "cell_type": "code",
   "execution_count": 3,
   "id": "ee4014d2-717a-439a-88a3-1da59f21870c",
   "metadata": {
    "tags": []
   },
   "outputs": [
    {
     "data": {
      "text/plain": [
       "17"
      ]
     },
     "execution_count": 3,
     "metadata": {},
     "output_type": "execute_result"
    }
   ],
   "source": [
    "(3*4)+5\n"
   ]
  },
  {
   "cell_type": "markdown",
   "id": "84e44cfa-68f7-4775-a2a0-1f23ad97b5c0",
   "metadata": {
    "tags": []
   },
   "source": []
  },
  {
   "cell_type": "markdown",
   "id": "8ad7b1c8-ed4a-4c63-b6eb-59769397b808",
   "metadata": {
    "tags": []
   },
   "source": [
    "This will convert 200 minutes to hours by diving by 60"
   ]
  },
  {
   "cell_type": "code",
   "execution_count": 7,
   "id": "5a3d05e1-4a53-4ee4-bf0b-aa686b81da51",
   "metadata": {
    "tags": []
   },
   "outputs": [
    {
     "data": {
      "text/plain": [
       "3.3333333333333335"
      ]
     },
     "execution_count": 7,
     "metadata": {},
     "output_type": "execute_result"
    }
   ],
   "source": [
    "200/60"
   ]
  },
  {
   "cell_type": "markdown",
   "id": "e1e901d2-09df-42d1-bebd-5512d1ad3da2",
   "metadata": {},
   "source": [
    "## Author\n",
    "Saluhu Malam."
   ]
  },
  {
   "cell_type": "code",
   "execution_count": null,
   "id": "37de71c9-d226-4a58-bf5e-a0e3017ca4e2",
   "metadata": {},
   "outputs": [],
   "source": []
  }
 ],
 "metadata": {
  "kernelspec": {
   "display_name": "Python",
   "language": "python",
   "name": "conda-env-python-py"
  },
  "language_info": {
   "codemirror_mode": {
    "name": "ipython",
    "version": 3
   },
   "file_extension": ".py",
   "mimetype": "text/x-python",
   "name": "python",
   "nbconvert_exporter": "python",
   "pygments_lexer": "ipython3",
   "version": "3.7.12"
  }
 },
 "nbformat": 4,
 "nbformat_minor": 5
}
